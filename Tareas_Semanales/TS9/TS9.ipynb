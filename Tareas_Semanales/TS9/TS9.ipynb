{
 "cells": [
  {
   "cell_type": "markdown",
   "metadata": {},
   "source": [
    "<img src=\"../logo_UTN.svg\" align=\"right\" width=\"150\" /> \n",
    "\n",
    "#### Teoría de los Circuitos 2\n",
    "\n",
    "# Trabajo semanal 9 - Funciones de excitación no disipativas\n",
    "#### Lugano Damian\n",
    "\n",
    "-------------------------"
   ]
  },
  {
   "cell_type": "markdown",
   "metadata": {},
   "source": [
    "## Consigna\n",
    "\n",
    "![Alt text](image.png)\n",
    "\n",
    "![Alt text](image-2.png)\n"
   ]
  },
  {
   "cell_type": "markdown",
   "metadata": {},
   "source": [
    "### Desarrollo"
   ]
  },
  {
   "cell_type": "code",
   "execution_count": 1,
   "metadata": {},
   "outputs": [
    {
     "data": {
      "text/html": [
       "\n",
       "        <iframe\n",
       "            width=\"950\"\n",
       "            height=\"1000\"\n",
       "            src=\"./docs/TS9.pdf\"\n",
       "            frameborder=\"0\"\n",
       "            allowfullscreen\n",
       "            \n",
       "        ></iframe>\n",
       "        "
      ],
      "text/plain": [
       "<IPython.lib.display.IFrame at 0x7fddb507bf70>"
      ]
     },
     "execution_count": 1,
     "metadata": {},
     "output_type": "execute_result"
    }
   ],
   "source": [
    "from IPython.display import IFrame\n",
    "IFrame(\"./docs/TS9.pdf\", width=950, height=1000)"
   ]
  },
  {
   "cell_type": "markdown",
   "metadata": {},
   "source": [
    "## Simulación en Simpy\n",
    "\n",
    "### Ejercicio 1\n"
   ]
  },
  {
   "cell_type": "code",
   "execution_count": 2,
   "metadata": {},
   "outputs": [],
   "source": [
    "### ---- Imports ----\n",
    "\n",
    "import sympy as sp\n",
    "from pytc2.sintesis_dipolo import foster\n",
    "from pytc2.dibujar import dibujar_foster_serie, dibujar_foster_derivacion\n",
    "from pytc2.general import print_latex, print_subtitle, a_equal_b_latex_s"
   ]
  },
  {
   "cell_type": "code",
   "execution_count": 3,
   "metadata": {},
   "outputs": [
    {
     "data": {
      "text/latex": [
       "$\\displaystyle F(s)=\\frac{s^{4} + 4 s^{2} + 3}{s^{3} + 2 s}$"
      ],
      "text/plain": [
       "<IPython.core.display.Math object>"
      ]
     },
     "metadata": {},
     "output_type": "display_data"
    }
   ],
   "source": [
    "s = sp.symbols('s ', complex=True)\n",
    "\n",
    "FF = (s**4 + 4*s**2 + 3)/(s**3 + 2*s)\n",
    "\n",
    "print_latex(a_equal_b_latex_s('F(s)', FF))"
   ]
  },
  {
   "cell_type": "code",
   "execution_count": 4,
   "metadata": {},
   "outputs": [
    {
     "ename": "ValueError",
     "evalue": "not enough values to unpack (expected 5, got 3)",
     "output_type": "error",
     "traceback": [
      "\u001b[0;31m---------------------------------------------------------------------------\u001b[0m",
      "\u001b[0;31mValueError\u001b[0m                                Traceback (most recent call last)",
      "\u001b[1;32m/home/dlugano/UTN/4to/TC2_2023_Lugano/Tareas_Semanales/TS9/TS9.ipynb Cell 8\u001b[0m line \u001b[0;36m2\n\u001b[1;32m      <a href='vscode-notebook-cell:/home/dlugano/UTN/4to/TC2_2023_Lugano/Tareas_Semanales/TS9/TS9.ipynb#X14sZmlsZQ%3D%3D?line=0'>1</a>\u001b[0m \u001b[39m# Se expande FF a la Foster\u001b[39;00m\n\u001b[0;32m----> <a href='vscode-notebook-cell:/home/dlugano/UTN/4to/TC2_2023_Lugano/Tareas_Semanales/TS9/TS9.ipynb#X14sZmlsZQ%3D%3D?line=1'>2</a>\u001b[0m k0, koo, ki_wi, _ , FF_foster \u001b[39m=\u001b[39m foster(FF)\n\u001b[1;32m      <a href='vscode-notebook-cell:/home/dlugano/UTN/4to/TC2_2023_Lugano/Tareas_Semanales/TS9/TS9.ipynb#X14sZmlsZQ%3D%3D?line=3'>4</a>\u001b[0m print_latex(a_equal_b_latex_s(\u001b[39m'\u001b[39m\u001b[39mk_0\u001b[39m\u001b[39m'\u001b[39m, k0))\n\u001b[1;32m      <a href='vscode-notebook-cell:/home/dlugano/UTN/4to/TC2_2023_Lugano/Tareas_Semanales/TS9/TS9.ipynb#X14sZmlsZQ%3D%3D?line=5'>6</a>\u001b[0m print_latex(a_equal_b_latex_s(\u001b[39mr\u001b[39m\u001b[39m'\u001b[39m\u001b[39mk_1 = \u001b[39m\u001b[39m\\\u001b[39m\u001b[39mleft[ \u001b[39m\u001b[39m\\\u001b[39m\u001b[39mfrac\u001b[39m\u001b[39m{1}\u001b[39;00m\u001b[39m{\u001b[39m\u001b[39m \u001b[39m\u001b[39m\\\u001b[39m\u001b[39mfrac\u001b[39m\u001b[39m{1}\u001b[39;00m\u001b[39m{\u001b[39m\u001b[39ms. \u001b[39m\u001b[39m\\\u001b[39m\u001b[39mfrac\u001b[39m\u001b[39m{\u001b[39m\u001b[39m\\\u001b[39m\u001b[39momega_i^2}\u001b[39m\u001b[39m{2.k_i}\u001b[39;00m\u001b[39m } + s . \u001b[39m\u001b[39m\\\u001b[39m\u001b[39mfrac\u001b[39m\u001b[39m{1}\u001b[39;00m\u001b[39m{2.k_i}\u001b[39;00m\u001b[39m } \u001b[39m\u001b[39m\\\u001b[39m\u001b[39mright]  = \u001b[39m\u001b[39m\\\u001b[39;00m\n\u001b[1;32m      <a href='vscode-notebook-cell:/home/dlugano/UTN/4to/TC2_2023_Lugano/Tareas_Semanales/TS9/TS9.ipynb#X14sZmlsZQ%3D%3D?line=6'>7</a>\u001b[0m \u001b[39m                                             \u001b[39m\u001b[39m\\\u001b[39m\u001b[39mleft[ \u001b[39m\u001b[39m\\\u001b[39m\u001b[39mfrac\u001b[39m\u001b[39m{1}\u001b[39;00m\u001b[39m{\u001b[39m\u001b[39m \u001b[39m\u001b[39m\\\u001b[39m\u001b[39mfrac\u001b[39m\u001b[39m{k_0}\u001b[39;00m\u001b[39m{s}\u001b[39;00m\u001b[39m + s . k_\u001b[39m\u001b[39m\\\u001b[39m\u001b[39minfty } \u001b[39m\u001b[39m\\\u001b[39m\u001b[39mright] = \u001b[39m\u001b[39m\\\u001b[39;00m\n\u001b[1;32m      <a href='vscode-notebook-cell:/home/dlugano/UTN/4to/TC2_2023_Lugano/Tareas_Semanales/TS9/TS9.ipynb#X14sZmlsZQ%3D%3D?line=7'>8</a>\u001b[0m \u001b[39m                                             \u001b[39m\u001b[39m\\\u001b[39m\u001b[39mleft[ k_0, k_\u001b[39m\u001b[39m\\\u001b[39m\u001b[39minfty \u001b[39m\u001b[39m\\\u001b[39m\u001b[39mright] = \u001b[39m\u001b[39m\\\u001b[39;00m\n\u001b[1;32m      <a href='vscode-notebook-cell:/home/dlugano/UTN/4to/TC2_2023_Lugano/Tareas_Semanales/TS9/TS9.ipynb#X14sZmlsZQ%3D%3D?line=8'>9</a>\u001b[0m \u001b[39m                                       \u001b[39m\u001b[39m\\\u001b[39m\u001b[39mleft[ \u001b[39m\u001b[39m\\\u001b[39;00m\n\u001b[1;32m     <a href='vscode-notebook-cell:/home/dlugano/UTN/4to/TC2_2023_Lugano/Tareas_Semanales/TS9/TS9.ipynb#X14sZmlsZQ%3D%3D?line=9'>10</a>\u001b[0m \u001b[39m                                             \u001b[39m\u001b[39m\\\u001b[39m\u001b[39mleft[ \u001b[39m\u001b[39m\\\u001b[39m\u001b[39mfrac\u001b[39m\u001b[39m{\u001b[39m\u001b[39m\\\u001b[39m\u001b[39momega_1^2}\u001b[39m\u001b[39m{2k_1}\u001b[39;00m\u001b[39m, \u001b[39m\u001b[39m\\\u001b[39m\u001b[39mfrac\u001b[39m\u001b[39m{1}\u001b[39;00m\u001b[39m{2k_1}\u001b[39;00m\u001b[39m \u001b[39m\u001b[39m\\\u001b[39m\u001b[39mright] \u001b[39m\u001b[39m\\\u001b[39;00m\n\u001b[1;32m     <a href='vscode-notebook-cell:/home/dlugano/UTN/4to/TC2_2023_Lugano/Tareas_Semanales/TS9/TS9.ipynb#X14sZmlsZQ%3D%3D?line=10'>11</a>\u001b[0m \u001b[39m                                       \u001b[39m\u001b[39m\\\u001b[39m\u001b[39mright]\u001b[39m\u001b[39m'\u001b[39m, ki_wi ))\n",
      "\u001b[0;31mValueError\u001b[0m: not enough values to unpack (expected 5, got 3)"
     ]
    }
   ],
   "source": [
    "# Se expande FF a la Foster\n",
    "k0, koo, ki_wi, _ , FF_foster = foster(FF)\n",
    "\n",
    "print_latex(a_equal_b_latex_s('k_0', k0))\n",
    "\n",
    "print_latex(a_equal_b_latex_s(r'k_1 = \\left[ \\frac{1}{ \\frac{1}{s. \\frac{\\omega_i^2}{2.k_i} } + s . \\frac{1}{2.k_i} } \\right]  = \\\n",
    "                                             \\left[ \\frac{1}{ \\frac{k_0}{s} + s . k_\\infty } \\right] = \\\n",
    "                                             \\left[ k_0, k_\\infty \\right] = \\\n",
    "                                       \\left[ \\\n",
    "                                             \\left[ \\frac{\\omega_1^2}{2k_1}, \\frac{1}{2k_1} \\right] \\\n",
    "                                       \\right]', ki_wi ))\n",
    "\n",
    "print_latex(a_equal_b_latex_s('k_\\infty', koo))\n",
    "\n",
    "\n",
    "print_latex(a_equal_b_latex_s(a_equal_b_latex_s('F(s)', FF)[1:-1], FF_foster ))"
   ]
  }
 ],
 "metadata": {
  "kernelspec": {
   "display_name": "Python 3",
   "language": "python",
   "name": "python3"
  },
  "language_info": {
   "codemirror_mode": {
    "name": "ipython",
    "version": 3
   },
   "file_extension": ".py",
   "mimetype": "text/x-python",
   "name": "python",
   "nbconvert_exporter": "python",
   "pygments_lexer": "ipython3",
   "version": "3.10.12"
  },
  "orig_nbformat": 4
 },
 "nbformat": 4,
 "nbformat_minor": 2
}
