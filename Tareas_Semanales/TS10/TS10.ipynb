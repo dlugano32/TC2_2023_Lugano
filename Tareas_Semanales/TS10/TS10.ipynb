{
 "cells": [
  {
   "cell_type": "markdown",
   "metadata": {},
   "source": [
    "<img src=\"../logo_UTN.svg\" align=\"right\" width=\"150\" /> \n",
    "\n",
    "#### Teoría de los Circuitos 2\n",
    "\n",
    "# Trabajo semanal 10 - Funciones de excitación disipativas\n",
    "#### Lugano Damian\n",
    "\n",
    "-------------------------"
   ]
  },
  {
   "cell_type": "markdown",
   "metadata": {},
   "source": [
    "## Punto 1\n",
    "### Consigna\n",
    "\n",
    "![Alt text](./pics/Consigna.png)\n",
    "\n",
    "### Desarrollo analítico"
   ]
  },
  {
   "cell_type": "code",
   "execution_count": 1,
   "metadata": {},
   "outputs": [
    {
     "data": {
      "text/html": [
       "\n",
       "        <iframe\n",
       "            width=\"950\"\n",
       "            height=\"1000\"\n",
       "            src=\"./docs/TS10_1.pdf\"\n",
       "            frameborder=\"0\"\n",
       "            allowfullscreen\n",
       "            \n",
       "        ></iframe>\n",
       "        "
      ],
      "text/plain": [
       "<IPython.lib.display.IFrame at 0x7efc1660f850>"
      ]
     },
     "execution_count": 1,
     "metadata": {},
     "output_type": "execute_result"
    }
   ],
   "source": [
    "from IPython.display import IFrame\n",
    "IFrame(\"./docs/TS10_1.pdf\", width=950, height=1000)"
   ]
  },
  {
   "cell_type": "markdown",
   "metadata": {},
   "source": [
    "#### Simulación simbólica"
   ]
  },
  {
   "cell_type": "code",
   "execution_count": 4,
   "metadata": {},
   "outputs": [
    {
     "data": {
      "text/latex": [
       "$\\displaystyle Z(s)=\\frac{s^{2} + 6 s + 8}{s^{2} + 4 s + 3}$"
      ],
      "text/plain": [
       "<IPython.core.display.Math object>"
      ]
     },
     "metadata": {},
     "output_type": "display_data"
    }
   ],
   "source": [
    "### ---- Imports ----\n",
    "\n",
    "import sympy as sp\n",
    "from pytc2.sintesis_dipolo import foster\n",
    "from pytc2.dibujar import dibujar_foster_serie, dibujar_foster_derivacion\n",
    "from pytc2.general import print_latex, print_subtitle, a_equal_b_latex_s\n",
    "\n",
    "### ---- Variable Compleja\n",
    "\n",
    "s = sp.symbols('s ', complex=True)\n",
    "\n",
    "Z = (s**2 + 6*s + 8)/(s**2 + 4*s + 3)\n",
    "print_latex(a_equal_b_latex_s('Z(s)', Z))"
   ]
  },
  {
   "cell_type": "code",
   "execution_count": 11,
   "metadata": {},
   "outputs": [
    {
     "ename": "TypeError",
     "evalue": "remover_valor_en_dc() got an unexpected keyword argument 'sigma_zero'",
     "output_type": "error",
     "traceback": [
      "\u001b[0;31m---------------------------------------------------------------------------\u001b[0m",
      "\u001b[0;31mTypeError\u001b[0m                                 Traceback (most recent call last)",
      "\u001b[1;32m/home/dlugano/UTN/4to/TC2_2023_Lugano/Tareas_Semanales/TS10/TS10.ipynb Cell 6\u001b[0m line \u001b[0;36m7\n\u001b[1;32m      <a href='vscode-notebook-cell:/home/dlugano/UTN/4to/TC2_2023_Lugano/Tareas_Semanales/TS10/TS10.ipynb#X13sZmlsZQ%3D%3D?line=2'>3</a>\u001b[0m \u001b[39mfrom\u001b[39;00m \u001b[39mpytc2\u001b[39;00m\u001b[39m.\u001b[39;00m\u001b[39mremociones\u001b[39;00m \u001b[39mimport\u001b[39;00m remover_valor_en_dc, remover_valor_en_infinito, remover_polo_sigma\n\u001b[1;32m      <a href='vscode-notebook-cell:/home/dlugano/UTN/4to/TC2_2023_Lugano/Tareas_Semanales/TS10/TS10.ipynb#X13sZmlsZQ%3D%3D?line=4'>5</a>\u001b[0m sigma_R1C1 \u001b[39m=\u001b[39m \u001b[39m-\u001b[39m\u001b[39m6\u001b[39m\n\u001b[0;32m----> <a href='vscode-notebook-cell:/home/dlugano/UTN/4to/TC2_2023_Lugano/Tareas_Semanales/TS10/TS10.ipynb#X13sZmlsZQ%3D%3D?line=6'>7</a>\u001b[0m Y2, YA \u001b[39m=\u001b[39m remover_valor_en_dc(Z, sigma_zero \u001b[39m=\u001b[39;49m sigma_R1C1 )\n\u001b[1;32m     <a href='vscode-notebook-cell:/home/dlugano/UTN/4to/TC2_2023_Lugano/Tareas_Semanales/TS10/TS10.ipynb#X13sZmlsZQ%3D%3D?line=9'>10</a>\u001b[0m print_latex(a_equal_b_latex_s(\u001b[39m'\u001b[39m\u001b[39mY_A\u001b[39m\u001b[39m'\u001b[39m, YA))\n\u001b[1;32m     <a href='vscode-notebook-cell:/home/dlugano/UTN/4to/TC2_2023_Lugano/Tareas_Semanales/TS10/TS10.ipynb#X13sZmlsZQ%3D%3D?line=10'>11</a>\u001b[0m print_latex(a_equal_b_latex_s(\u001b[39m'\u001b[39m\u001b[39mY_2\u001b[39m\u001b[39m'\u001b[39m, Y2))\n",
      "\u001b[0;31mTypeError\u001b[0m: remover_valor_en_dc() got an unexpected keyword argument 'sigma_zero'"
     ]
    }
   ],
   "source": [
    "### Remocion parcial en inf para imponer un cero en sigma=-6\n",
    "\n",
    "from pytc2.remociones import remover_valor_en_dc, remover_valor_en_infinito, remover_polo_sigma\n",
    "\n",
    "sigma_R1C1 = -6\n",
    "\n",
    "Y2, YA = remover_valor_en_dc(1/Z, sigma_zero = sigma_R1C1 )\n",
    "\n",
    "\n",
    "print_latex(a_equal_b_latex_s('Y_A', YA))\n",
    "print_latex(a_equal_b_latex_s('Y_2', Y2))"
   ]
  }
 ],
 "metadata": {
  "kernelspec": {
   "display_name": "Python 3",
   "language": "python",
   "name": "python3"
  },
  "language_info": {
   "codemirror_mode": {
    "name": "ipython",
    "version": 3
   },
   "file_extension": ".py",
   "mimetype": "text/x-python",
   "name": "python",
   "nbconvert_exporter": "python",
   "pygments_lexer": "ipython3",
   "version": "3.10.12"
  },
  "orig_nbformat": 4
 },
 "nbformat": 4,
 "nbformat_minor": 2
}
