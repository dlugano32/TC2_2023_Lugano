{
 "cells": [
  {
   "cell_type": "markdown",
   "metadata": {},
   "source": [
    "<img src=\"../logo_UTN.svg\" align=\"right\" width=\"150\" /> \n",
    "\n",
    "#### Teoría de los Circuitos 2\n",
    "\n",
    "# Trabajo semanal 11 - Sintesis de función transferencia descargadas\n",
    "#### Lugano Damian\n",
    "\n",
    "-------------------------"
   ]
  },
  {
   "cell_type": "markdown",
   "metadata": {},
   "source": [
    "### Punto 1)\n",
    "\n",
    "#### Consigna\n",
    "\n",
    "![Alt text](./pics/Consigna_1.png)"
   ]
  },
  {
   "cell_type": "markdown",
   "metadata": {},
   "source": [
    "#### Desarrollo"
   ]
  },
  {
   "cell_type": "code",
   "execution_count": 87,
   "metadata": {},
   "outputs": [
    {
     "data": {
      "text/html": [
       "\n",
       "        <iframe\n",
       "            width=\"950\"\n",
       "            height=\"1000\"\n",
       "            src=\"./docs/TS11_1.pdf\"\n",
       "            frameborder=\"0\"\n",
       "            allowfullscreen\n",
       "            \n",
       "        ></iframe>\n",
       "        "
      ],
      "text/plain": [
       "<IPython.lib.display.IFrame at 0x7fc60e5c38b0>"
      ]
     },
     "execution_count": 87,
     "metadata": {},
     "output_type": "execute_result"
    }
   ],
   "source": [
    "from IPython.display import IFrame\n",
    "IFrame(\"./docs/TS11_1.pdf\", width=950, height=1000)"
   ]
  },
  {
   "cell_type": "markdown",
   "metadata": {},
   "source": [
    "#### Simulación numérica"
   ]
  },
  {
   "cell_type": "code",
   "execution_count": 88,
   "metadata": {},
   "outputs": [],
   "source": [
    "### ---- Imports ----\n",
    "\n",
    "import sympy as sp\n",
    "from pytc2.sintesis_dipolo import foster, remover_polo_dc, remover_polo_infinito\n",
    "from pytc2.dibujar import dibujar_foster_serie, dibujar_foster_derivacion\n",
    "from pytc2.general import print_latex, print_subtitle, a_equal_b_latex_s\n",
    "from pytc2.remociones import remover_polo_jw, remover_valor_en_infinito\n",
    "\n",
    "### ---- Variable Compleja\n",
    "\n",
    "s = sp.symbols('s ', complex=True)"
   ]
  },
  {
   "cell_type": "code",
   "execution_count": 89,
   "metadata": {},
   "outputs": [
    {
     "data": {
      "text/latex": [
       "$\\displaystyle Y_{11}(s)=\\frac{3 s \\left(s^{2} + \\frac{7}{3}\\right)}{\\left(s^{2} + 2\\right) \\left(s^{2} + 5\\right)}$"
      ],
      "text/plain": [
       "<IPython.core.display.Math object>"
      ]
     },
     "metadata": {},
     "output_type": "display_data"
    }
   ],
   "source": [
    "### ---- Función excitación (Red no disipativa) ---\n",
    "\n",
    "Y11=(3*s*(s**2+7/3))/((s**2+2)*(s**2+5))\n",
    "Y11=sp.nsimplify(Y11)\n",
    "\n",
    "print_latex(a_equal_b_latex_s('Y_{11}(s)', Y11))"
   ]
  },
  {
   "cell_type": "code",
   "execution_count": 90,
   "metadata": {},
   "outputs": [
    {
     "data": {
      "text/latex": [
       "$\\displaystyle Z1(s)=\\frac{1}{s}$"
      ],
      "text/plain": [
       "<IPython.core.display.Math object>"
      ]
     },
     "metadata": {},
     "output_type": "display_data"
    },
    {
     "data": {
      "text/latex": [
       "$\\displaystyle Z2(s)=\\frac{\\left(s^{2} + 1\\right) \\left(s^{2} + 3\\right)}{s \\left(3 s^{2} + 7\\right)}$"
      ],
      "text/plain": [
       "<IPython.core.display.Math object>"
      ]
     },
     "metadata": {},
     "output_type": "display_data"
    }
   ],
   "source": [
    "### ---- Remoción parcial de polo en DC ----\n",
    "\n",
    "Z2, Z1 = remover_polo_dc(1/Y11, omega_zero= 1)\n",
    "\n",
    "print_latex(a_equal_b_latex_s('Z1(s)', Z1))\n",
    "print_latex(a_equal_b_latex_s('Z2(s)', Z2))"
   ]
  },
  {
   "cell_type": "code",
   "execution_count": 91,
   "metadata": {},
   "outputs": [
    {
     "data": {
      "text/latex": [
       "$\\displaystyle k0=\\frac{2 s}{s^{2} + 1}$"
      ],
      "text/plain": [
       "<IPython.core.display.Math object>"
      ]
     },
     "metadata": {},
     "output_type": "display_data"
    },
    {
     "data": {
      "text/latex": [
       "$\\displaystyle Y_4(s)=\\frac{s}{s^{2} + 3}$"
      ],
      "text/plain": [
       "<IPython.core.display.Math object>"
      ]
     },
     "metadata": {},
     "output_type": "display_data"
    }
   ],
   "source": [
    "### --- Remoción completa de polo sobre eje jw=1 ---\n",
    "\n",
    "Y4, k1, L1, C2 = remover_polo_jw(1/Z2, omega= 1, isImpedance=False)\n",
    "\n",
    "print_latex(a_equal_b_latex_s('k0', k1))\n",
    "print_latex(a_equal_b_latex_s('Y_4(s)', Y4))"
   ]
  },
  {
   "cell_type": "code",
   "execution_count": 92,
   "metadata": {},
   "outputs": [
    {
     "data": {
      "text/latex": [
       "$\\displaystyle Z_5(s)=\\frac{3}{s}$"
      ],
      "text/plain": [
       "<IPython.core.display.Math object>"
      ]
     },
     "metadata": {},
     "output_type": "display_data"
    },
    {
     "data": {
      "text/latex": [
       "$\\displaystyle Z_6(s)=s$"
      ],
      "text/plain": [
       "<IPython.core.display.Math object>"
      ]
     },
     "metadata": {},
     "output_type": "display_data"
    }
   ],
   "source": [
    "### Remoción completa de polo en DC ---\n",
    "\n",
    "Z6, Z5 = remover_polo_dc(1/Y4)\n",
    "\n",
    "print_latex(a_equal_b_latex_s('Z_5(s)', Z5))\n",
    "print_latex(a_equal_b_latex_s('Z_6(s)', Z6))"
   ]
  },
  {
   "cell_type": "markdown",
   "metadata": {},
   "source": [
    "#### Simulación circuital\n",
    "\n",
    "![Alt text](./pics/circ1.png)\n",
    "\n",
    "En este caso se tuvo que poner el Resistor R1 por cuestiones de simulación\n",
    "\n",
    "![Alt text](./pics/sim1.png)\n",
    "\n",
    "Como se puede observa de la simulación de Y11 y Y21, los polos y los ceros del circuito sintetizado están donde deben."
   ]
  },
  {
   "cell_type": "markdown",
   "metadata": {},
   "source": [
    "### Punto 2\n",
    "\n",
    "#### Consigna\n",
    "\n",
    "![Alt text](./pics/Consigna_2.png)\n",
    "\n",
    "#### Desarrollo"
   ]
  },
  {
   "cell_type": "code",
   "execution_count": 93,
   "metadata": {},
   "outputs": [
    {
     "data": {
      "text/html": [
       "\n",
       "        <iframe\n",
       "            width=\"950\"\n",
       "            height=\"1000\"\n",
       "            src=\"./docs/TS11_2.pdf\"\n",
       "            frameborder=\"0\"\n",
       "            allowfullscreen\n",
       "            \n",
       "        ></iframe>\n",
       "        "
      ],
      "text/plain": [
       "<IPython.lib.display.IFrame at 0x7fc5c7652770>"
      ]
     },
     "execution_count": 93,
     "metadata": {},
     "output_type": "execute_result"
    }
   ],
   "source": [
    "from IPython.display import IFrame\n",
    "IFrame(\"./docs/TS11_2.pdf\", width=950, height=1000)"
   ]
  },
  {
   "cell_type": "markdown",
   "metadata": {},
   "source": [
    "#### Simulación simbólica"
   ]
  },
  {
   "cell_type": "code",
   "execution_count": 94,
   "metadata": {},
   "outputs": [],
   "source": [
    "### ---- Función excitación ----\n",
    "\n",
    "Z11=((s+2)*(s+4))/(s*(s+3))"
   ]
  },
  {
   "cell_type": "code",
   "execution_count": 95,
   "metadata": {},
   "outputs": [
    {
     "data": {
      "text/latex": [
       "$\\displaystyle R_1=1$"
      ],
      "text/plain": [
       "<IPython.core.display.Math object>"
      ]
     },
     "metadata": {},
     "output_type": "display_data"
    },
    {
     "data": {
      "text/latex": [
       "$\\displaystyle Z_2(s)=\\frac{3 s + 8}{s \\left(s + 3\\right)}$"
      ],
      "text/plain": [
       "<IPython.core.display.Math object>"
      ]
     },
     "metadata": {},
     "output_type": "display_data"
    }
   ],
   "source": [
    "### ---- Remoción completa de valor en infinito ---\n",
    "\n",
    "Z2, R1=remover_valor_en_infinito(Z11)\n",
    "\n",
    "print_latex(a_equal_b_latex_s('R_1', R1))\n",
    "print_latex(a_equal_b_latex_s('Z_2(s)', Z2))"
   ]
  },
  {
   "cell_type": "code",
   "execution_count": 96,
   "metadata": {},
   "outputs": [
    {
     "data": {
      "text/latex": [
       "$\\displaystyle C_2=\\frac{3 s + 8}{s \\left(s + 3\\right)}$"
      ],
      "text/plain": [
       "<IPython.core.display.Math object>"
      ]
     },
     "metadata": {},
     "output_type": "display_data"
    },
    {
     "data": {
      "text/latex": [
       "$\\displaystyle Z_4(s)=0$"
      ],
      "text/plain": [
       "<IPython.core.display.Math object>"
      ]
     },
     "metadata": {},
     "output_type": "display_data"
    }
   ],
   "source": [
    "### ---- Remoción parcial de polo en DC para llevar un cero a omega=1 ----\n",
    "\n",
    "Z4, C2=remover_polo_dc(Z2, omega_zero=1)\n",
    "\n",
    "print_latex(a_equal_b_latex_s('C_2', C2))\n",
    "print_latex(a_equal_b_latex_s('Z_4(s)', Z4))"
   ]
  }
 ],
 "metadata": {
  "kernelspec": {
   "display_name": "Python 3",
   "language": "python",
   "name": "python3"
  },
  "language_info": {
   "codemirror_mode": {
    "name": "ipython",
    "version": 3
   },
   "file_extension": ".py",
   "mimetype": "text/x-python",
   "name": "python",
   "nbconvert_exporter": "python",
   "pygments_lexer": "ipython3",
   "version": "3.10.12"
  },
  "orig_nbformat": 4
 },
 "nbformat": 4,
 "nbformat_minor": 2
}
