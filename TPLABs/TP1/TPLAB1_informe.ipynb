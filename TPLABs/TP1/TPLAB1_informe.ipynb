{
 "cells": [
  {
   "attachments": {},
   "cell_type": "markdown",
   "metadata": {},
   "source": [
    "<img src=\"./logo_UTN.svg\" align=\"right\" width=\"150\" /> \n",
    "\n",
    "#### Teoría de los Circuitos 2 - R4001\n",
    "\n",
    "# Trabajo práctica de laboratorio 1 : Teoría Moderna y Filtrado activado\n",
    "#### Lugano Damian - Leg 1756990\n",
    "\n",
    "Integrantes:\n",
    "\n",
    "+ Lugano Damian \n",
    "+ Nuñez Ana\n",
    "+ Fiasche Nahuel"
   ]
  },
  {
   "attachments": {},
   "cell_type": "markdown",
   "metadata": {},
   "source": [
    "--------------------------------------------------\n",
    "### **Objetivos**\n",
    "\n",
    "+ Consolidar los conceptos de teoría moderna mediante la implementación circuital.\n",
    "+ Simular e implementar el filtro con componentes activos de precisión.\n",
    "+ Medir las partes de la función transferencia para frecuencias menores a 100 kHz.\n"
   ]
  },
  {
   "attachments": {},
   "cell_type": "markdown",
   "metadata": {},
   "source": [
    "### **Descripción**\n",
    "\n",
    "El trabajo práctico consiste en el diseño, análisis, medición y discusión de un filtro activo.\n",
    "\n",
    "En este caso se propone diseñar el filtro A, que es un filtro pasabajos con función de aproximación Chebyshev. A continuación su plantilla:\n",
    "\n",
    "<figure>\n",
    "<center>\n",
    "<img src=\"./pics/plantilla.png\" width = \"800\">\n",
    "<figcaption> Figura 1. Plantilla del filtro A </figcaption>\n",
    "</figure>\n",
    "\n",
    "Para implementar la funcion transferencia del filtro diseñado se utilizará el circuito integrado UAF42 ([datasheet](https://www.ti.com/lit/ds/symlink/uaf42.pdf?ts=1653513515595&ref_url=https%253A%252F%252Fwww.ti.com%252Fproduct%252FUAF42%253Futm_source%253Dsupplyframe%2526utm_medium%253DSEP%2526utm_campaign%253Dnot_alldatasheet%2526DCM%253Dyes%2526dclid%253DCOTE4LXH-_cCFaCFlQIdQoELbA)).\n",
    "\n",
    "#### UAF42 - Universal Active Filter\n",
    "\n",
    "El CI UAF42 es un filtro activo universal configurado para un amplio rango de filtros pasa bajos, pasa altos y pasa banda. Por otro lado posee capacitores integrados con una tolerancia al 0.5%. Esto permite obtener respuestas en frecuencia del filtro muy parecidas a las simulaciones.\n",
    "\n",
    "<figure>\n",
    "<center>\n",
    "<img src=./pics/UAF42_1.png width = \"800\">\n",
    "<figcaption> Figura 2. Circuito interno del UAF42 </figcaption>\n",
    "</figure>\n",
    "\n",
    "<figure>\n",
    "<center>\n",
    "<img src=./pics/UAF42_2.png width = \"500\">\n",
    "<figcaption> Figura 3. PINOUT del UAF42 </figcaption>\n",
    "</figure>\n"
   ]
  },
  {
   "attachments": {},
   "cell_type": "markdown",
   "metadata": {},
   "source": [
    "## **Análisis**\n",
    "\n",
    "#### Plantilla\n",
    "\n",
    "Chebyshev : \n",
    "+ $f_c01.5KHz$\n",
    "+ $f_s=4.5KHz$\n",
    "+ $\\alpha_{MAX} = 0.5dB$\n",
    "+ $\\alpha_{MIN}=16dB$\n",
    "\n",
    "#### 1 - Obtener el orden del filtro y el $\\epsilon$\n",
    "\n",
    "Primero se establece la norma de frecuencia :\n",
    "\n",
    "\\begin{equation}\n",
    "    \\Omega_\\omega=2 \\pi f_c \\hspace{1cm} \\Longrightarrow \\hspace{1cm} \\omega_c=1 \\hspace{0.5cm} y \\hspace{0.5cm} \\omega_s=3\n",
    "\\end{equation}\n",
    "\n",
    "\\begin{equation}\n",
    "    \\epsilon²=10^{\\frac{\\alpha_{max}}{10}}-1 = 0.122 \\hspace{1cm} \\Longrightarrow \\epsilon=0.349\n",
    "\\end{equation}\n",
    "\n",
    "\\begin{equation}\n",
    "    \\alpha_{min}=10 * log[ 1 + \\epsilon² * cosh²(n * cosh^{-1}(\\omega_s)) ]\n",
    "\\end{equation}\n",
    "\n",
    "Se itera: \n",
    "\n",
    "+ $\\alpha_{min2} = 15.59 dB$\n",
    "+ $\\alpha_{min2} = 30.77 dB$\n",
    "\n",
    "#### Por lo tanto se elije orden n=3\n",
    "\n",
    "La transferencia de un cheby está caracterizada por:\n",
    "\n",
    "\n",
    "\\begin{equation}\n",
    "    | T(S) . T(-S) | = | T(j\\omega) |² = \\frac{1}{1+\\epsilon² * C_3(\\omega)²}\n",
    "\\end{equation}\n",
    "\n",
    "Donde el polinomio de Cheby para orden 3 es $C_3(\\omega)=2\\omega*C_2 - C_1 = 4\\omega³ -2\\omega$\n",
    "\n",
    "Para evitar hacer el desarrollo matemática que conlleva el diseño de un chebyshev. Se utilizó el simulador numérico en python\n"
   ]
  },
  {
   "cell_type": "code",
   "execution_count": 1,
   "metadata": {},
   "outputs": [],
   "source": [
    "#----------------- imports ---------------------\n",
    "from scipy.signal import TransferFunction\n",
    "import matplotlib.pyplot as plt\n",
    "import numpy as np\n",
    "import scipy.signal as ss\n",
    "\n",
    "from pytc2.sistemas_lineales import analyze_sys, pretty_print_bicuad_omegayq, tf2sos_analog, pretty_print_SOS\n",
    "\n",
    "from pytc2.general import print_subtitle"
   ]
  },
  {
   "cell_type": "code",
   "execution_count": 2,
   "metadata": {},
   "outputs": [],
   "source": [
    "#----------------------Definicion de las variables---------------------\n",
    "\n",
    "xi = 0.349\n",
    "n = 3\n",
    "alpha_max = 0.5"
   ]
  },
  {
   "cell_type": "code",
   "execution_count": 3,
   "metadata": {},
   "outputs": [
    {
     "data": {
      "text/latex": [
       "$\\displaystyle   \\frac{0.6264 }{s + 0.6265 } . \\frac{1.143 }{s^2 + s \\frac{1.069}{1.706} + 1.069^2}$"
      ],
      "text/plain": [
       "<IPython.core.display.Math object>"
      ]
     },
     "metadata": {},
     "output_type": "display_data"
    },
    {
     "name": "stdout",
     "output_type": "stream",
     "text": [
      "z =  [] \n",
      " p =  [-0.31322824+1.02192749j -0.62645649-0.j         -0.31322824-1.02192749j] \n",
      " k = 0.7156937903107974\n"
     ]
    }
   ],
   "source": [
    "#---------------------------Definicion de H-------------------------\n",
    "\n",
    "[z, p, k] = ss.cheb1ap(n, alpha_max)\n",
    "\n",
    "[num, den] = ss.zpk2tf(z, p, k)\n",
    "\n",
    "sos_lp = tf2sos_analog(num, den)\n",
    "sos_lp[sos_lp < 1e-6] = 0.0\n",
    "\n",
    "#-----------------------------Visualizacion----------------------------\n",
    "\n",
    "pretty_print_SOS(sos_lp, mode='omegayq')\n",
    "print(\"z = \", z, \"\\n\", \"p = \", p, \"\\n\", \"k =\", k)"
   ]
  },
  {
   "attachments": {},
   "cell_type": "markdown",
   "metadata": {},
   "source": [
    "Como se puede ver se llegó a la función transferencia :\n",
    "\n",
    "\\begin{equation}\n",
    "    T(S)=\\frac{\\omega_{02} }{s + \\omega_{02} } . \\frac{\\omega_{01}² }{s^2 + s \\frac{\\omega_{01}}{Q} + \\omega_{01}^2} =\\frac{0.6264 }{s + 0.6265 } . \\frac{1.143 }{s^2 + s \\frac{1.069}{1.706} + 1.069^2} \n",
    "\\end{equation}\n",
    "\n",
    "Donde se puede ver en el sistema de segundo orden (SOS, por sus siglas en ingles) que el valor de $Q=1.71$ y que $\\omega_{01}=1.069\\approx1$ y por otro lado $\\omega_{02}=0.626$"
   ]
  },
  {
   "attachments": {},
   "cell_type": "markdown",
   "metadata": {},
   "source": [
    "### **Sintesis del filtro**\n",
    "\n",
    "Para la primer etapa, es decir la SOS, se utilizará el CI UAF42 y para la segunda etapa de orden 1 se implementará un circuito RC. Por último se utilizará una etapa seguidora a la salida del filtro para evitar que la impedancia de las puntas de osciloscopio se ponga en paralelo al capacitor de salida y modifique los parámetros del mismo.\n",
    "\n",
    "<figure>\n",
    "<center>\n",
    "<img src=./pics/blockdiagram.png width = \"800\">\n",
    "<figcaption> Figura 4. Diagrama en bloques del filtro </figcaption>\n",
    "</figure>"
   ]
  },
  {
   "attachments": {},
   "cell_type": "markdown",
   "metadata": {},
   "source": [
    "#### Sintesis de los valores de los componentes externos del circuito UAF42\n",
    "\n",
    "Se utilizaron las ecuaciones de diseño provistas por la hoja de datos para par de polos inversores, a partir de la siguiente configuración de componentes:\n",
    "\n",
    "<figure>\n",
    "<center>\n",
    "<img src=./pics/design_eq.png width = \"800\">\n",
    "<figcaption> Figura 5. Ecuaciones de diseño para par de polos inversores </figcaption>\n",
    "</figure>\n",
    "\n",
    "A partir de dichas ecuaciones, se desarrollo un sistema de ecuaciones para obtener los valores de los componentes externos, es decir RG, RQ y el par RF1 RF2.\n",
    "\n",
    "Primero se debe tener en cuenta que $R_1=R_2=R_4=50K$ y que $C_1=C_2=1000pF$. Por lo tanto:\n",
    "\n",
    "+ $\\omega_{01}²=\\frac{1}{R_{F1}.R_{F2}.C²}=1²$\n",
    "\n",
    "+ $Q=(1+\\frac{R_4}{R_G}) \\frac{1}{\\frac{1}{R_1}+\\frac{1}{R_2}+\\frac{1}{R_G}} (\\frac{1}{R_1 . R_2})^{1/2} = 1.706$\n",
    "\n",
    "+ $A_{LP}=\\frac{R_1}{R_G}=1$\n",
    "\n",
    "Sin embargo para obtener el valor de los componetes desnormalizados, se deberá desnormalizar la transferencia primero.\n",
    "\n",
    "\\begin{equation}\n",
    "    T1(S)=\\frac{1.143 }{s^2 + s \\frac{1.069}{1.706} + 1.069^2} \\hspace{0.5cm} \\Longrightarrow \\hspace{0.5cm} \\frac{1.143 }{\\frac{s^2}{\\Omega\\omega²} + \\frac{s}{\\Omega\\omega} \\frac{1.069}{1.706} + 1.069^2}\n",
    "\\end{equation}\n",
    "\n",
    "\\begin{equation}\n",
    "    T1(S)=\\frac{1.143  \\Omega\\omega² }{s^2 + s \\hspace{0.1cm} \\Omega\\omega \\hspace{0.1cm} \\frac{1.069}{1.706} + 1.069^2 \\hspace{0.1cm} \\Omega\\omega²}\n",
    "\\end{equation}\n",
    "\n",
    "Recordando que $\\Omega\\omega=\\omega_p=2 \\pi f_p \\hspace{0.5cm} \\Longrightarrow \\hspace{0.5cm} \\Omega\\omega=3000\\pi$\n",
    "\n",
    "\\begin{equation}\n",
    "    T1(S)=\\frac{ 101.5\\times10⁶ }{s^2 + s \\frac{10.07\\times10³}{1.706} + 101.5\\times10⁶}\n",
    "\\end{equation}\n",
    "\n",
    "A partir de esto. Ahora:\n",
    "\n",
    "\\begin{equation}\n",
    "\\omega_{01}²=\\frac{1}{R_{F1}.R_{F2}.10^{-18}}=\\frac{10^{18}}{R_{F1}.R_{F2}} \\hspace{0.5cm} \\Longrightarrow \\hspace{0.5cm} R_{F1}.R_{F2}=\\frac{10^{18}}{\\omega_o²}=R_{F1}.R_{F2}=\\frac{10^{18}}{101.5\\times10⁶} \\hspace{0.5cm} \\Longrightarrow \\hspace{0.5cm} R_{F1}.R_{F2} = 9.852\\times10⁹\n",
    "\\end{equation}\n",
    "\n",
    "\\begin{equation}\n",
    "Adoptando \\hspace{0.5cm} \\rightarrow  R_{F1}=R_{F2} \\hspace{0.5cm} \\Longrightarrow \\hspace{0.5cm} R_{F1}=R_{F2}\\approx99.25K\\Omega \n",
    "\\end{equation}\n",
    "\n",
    "Por otro lado, la ganancia:\n",
    "\n",
    "\\begin{equation}\n",
    "A_{LP}=\\frac{R_1}{R_G}=1 \\hspace{0.5cm} \\Longrightarrow \\hspace{0.5cm} R_G=R_1=50K\\Omega\n",
    "\\end{equation}\n",
    "\n",
    "Por último el Q:\n",
    "\n",
    "\\begin{equation}\n",
    "Q=(1+\\frac{R_4}{R_G}) \\frac{50K\\Omega}{3} (\\frac{1}{(50K\\Omega)²})^{1/2} = (1+\\frac{R_4}{R_G}) \\times \\frac{1}{3} \\hspace{0.5cm} \\Longrightarrow \\hspace{0.5cm} R_G=12.14K\\Omega\n",
    "\\end{equation}\n",
    "\n",
    "Por lo que finalmente, pasando todos los valores de componentes a valores comerciales queda:\n",
    "\n",
    "+ $R_{F1}=R_{F2}=100K\\Omega$\n",
    "+ $R_G=50K\\Omega \\hspace{0.5cm} \\rightarrow$ se puede hacer con 2 resistencias de 100K en paralelo\n",
    "+ $R_Q=12K\\Omega$"
   ]
  },
  {
   "attachments": {},
   "cell_type": "markdown",
   "metadata": {},
   "source": [
    "#### Filtro RC\n",
    "\n",
    "Para sintetizar la transferencia de primero orden se utilizaró una resistencia con un capacitor en derivacion.\n",
    "\n",
    "<figure>\n",
    "<center>\n",
    "<img src=./pics/filtroRC.png width = \"500\">\n",
    "<figcaption> Figura 6. Circuito filtro RC </figcaption>\n",
    "</figure>\n",
    "\n",
    "Su transferencia está caracterizada de la siguiente manera:\n",
    "\n",
    "\\begin{equation}\n",
    "    T(S)=\\frac{\\omega_o}{s+\\omega_o}=\\frac{\\frac{1}{R_x.C_x}}{s+\\frac{1}{R_x.C_x}}=\\frac{0.6264 }{s + 0.6265 }\n",
    "\\end{equation}\n",
    "\n",
    "Para obtener el valor de los componentes, se tomó como norma de impedancia al capacitor, de manera de poder proponer un valor comercial de capacitancia y luego, en base al valor de resistencia resultante, ver de conseguir un valor comercial cercano o utilizar un trimpot.\n",
    "\n",
    "Entonces $\\hspace{0.5cm} \\Omega_Z=C_X \\hspace{0.5cm} \\Longrightarrow \\hspace{0.5cm} C=1$\n",
    "\n",
    "De esta manera $ \\hspace{0.5cm} T(s)=\\frac{\\frac{1}{R_X}}{s+\\frac{1}{R_X}}  \\hspace{0.5cm} \\Longrightarrow \\hspace{0.5cm} \\frac{1}{R_X}=0.626 \\hspace{0.5cm} \\Longrightarrow \\hspace{0.5cm} R_X=1.6$\n",
    "\n",
    "Por último, se propone como valor de capacitor $C_x=10nF$. Por lo tanto:\n",
    "\n",
    "$C=\\frac{C'}{\\Omega_z . \\Omega_\\omega}=10nF$\n",
    "\n",
    "$\\Omega_z=\\frac{C'}{C . \\Omega_\\omega} = \\frac{1}{10nF . 3000 \\pi} = 10.61K\\Omega$\n",
    "\n",
    "$R_x=R_x' . \\Omega_Z=16.976K\\Omega$\n",
    "\n",
    "Por lo tanto se adoptará $R_x=17K\\Omega$\n"
   ]
  },
  {
   "attachments": {},
   "cell_type": "markdown",
   "metadata": {},
   "source": [
    "#### Lista de componentes\n",
    "\n"
   ]
  }
 ],
 "metadata": {
  "kernelspec": {
   "display_name": "Python 3",
   "language": "python",
   "name": "python3"
  },
  "language_info": {
   "codemirror_mode": {
    "name": "ipython",
    "version": 3
   },
   "file_extension": ".py",
   "mimetype": "text/x-python",
   "name": "python",
   "nbconvert_exporter": "python",
   "pygments_lexer": "ipython3",
   "version": "3.10.6"
  },
  "orig_nbformat": 4
 },
 "nbformat": 4,
 "nbformat_minor": 2
}
