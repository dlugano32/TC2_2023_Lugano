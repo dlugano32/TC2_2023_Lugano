{
 "cells": [
  {
   "cell_type": "markdown",
   "id": "26b4e7f1",
   "metadata": {},
   "source": [
    "<img src=\"../logo_UTN.svg\" align=\"right\" width=\"150\" /> \n",
    "\n",
    "#### Teoría de los Circuitos 2\n",
    "\n",
    "# Evidencias clase 6\n",
    "#### Lugano Damian\n"
   ]
  },
  {
   "cell_type": "markdown",
   "id": "5a2bf0ee",
   "metadata": {},
   "source": [
    "## Videos\n",
    "\n",
    "Esta semana no tuve que ver ningún video ya que los de aproximación Bessel los vi la semana pasada. No es que siempre quiero estar adelantado sino que no se entiende bien que tema vamos a ver en que clase y prefiero ver de más que de menos.\n",
    "\n",
    "Por lo tanto esta semana me dediqué a terminar de entender bien la aproximación chebyshev resolviendo ejercicios.\n",
    "\n",
    "## Corección del ejercicio 2 de la guia de funciones de aproximación\n",
    "\n",
    "Me habia quedado pendiente terminar este ejercicio. En clase vimos como diseñar con Sallen-Key y lo pude terminar:"
   ]
  },
  {
   "cell_type": "code",
   "execution_count": 2,
   "id": "564f0bd5",
   "metadata": {},
   "outputs": [
    {
     "data": {
      "text/html": [
       "\n",
       "        <iframe\n",
       "            width=\"950\"\n",
       "            height=\"1000\"\n",
       "            src=\"./docs/Ej2.2.pdf\"\n",
       "            frameborder=\"0\"\n",
       "            allowfullscreen\n",
       "            \n",
       "        ></iframe>\n",
       "        "
      ],
      "text/plain": [
       "<IPython.lib.display.IFrame at 0x7fd2ec65ea40>"
      ]
     },
     "execution_count": 2,
     "metadata": {},
     "output_type": "execute_result"
    }
   ],
   "source": [
    "from IPython.display import IFrame\n",
    "IFrame(\"./docs/Ej2.2.pdf\", width=950, height=1000)"
   ]
  },
  {
   "cell_type": "markdown",
   "id": "9bb62983",
   "metadata": {},
   "source": [
    "## Primer Chebyshev\n",
    "\n",
    "Continué el ejercicio que hicimos en clase de un diseño de cheby de orden 3. Me costó bastante llegar al polinomio de tercer orden pero despues pude hacer lo demás sin problema."
   ]
  },
  {
   "cell_type": "code",
   "execution_count": 3,
   "id": "04d5b572",
   "metadata": {},
   "outputs": [
    {
     "data": {
      "text/html": [
       "\n",
       "        <iframe\n",
       "            width=\"950\"\n",
       "            height=\"1000\"\n",
       "            src=\"./docs/ejemplo_cheby.pdf\"\n",
       "            frameborder=\"0\"\n",
       "            allowfullscreen\n",
       "            \n",
       "        ></iframe>\n",
       "        "
      ],
      "text/plain": [
       "<IPython.lib.display.IFrame at 0x7fd2ec65f580>"
      ]
     },
     "execution_count": 3,
     "metadata": {},
     "output_type": "execute_result"
    }
   ],
   "source": [
    "from IPython.display import IFrame\n",
    "IFrame(\"./docs/ejemplo_cheby.pdf\", width=950, height=1000)"
   ]
  },
  {
   "cell_type": "markdown",
   "id": "f3e67f0b",
   "metadata": {},
   "source": [
    "## Ejercicio 3 guia de funciones de aproximación\n",
    "\n",
    "Resolvi el ejercicio 3 de la guia que era un cheby de orden 5, y lo hice con ayuda de las herramientas de calculo.\n",
    "\n",
    "En este caso fue mucho menos tedioso de resolver porque python hizo la parte dificil. \n",
    "\n",
    "Me queda la duda al momento de activar el circuito, no estoy seguro si lo resolvi bien. En específico tengo dudas si el parámetro D del FNDR debe ser igual al C que reemplaza al hacer bruton."
   ]
  },
  {
   "cell_type": "code",
   "execution_count": 4,
   "id": "2e06162c",
   "metadata": {},
   "outputs": [
    {
     "data": {
      "text/html": [
       "\n",
       "        <iframe\n",
       "            width=\"950\"\n",
       "            height=\"1000\"\n",
       "            src=\"./docs/guia_ej3.pdf\"\n",
       "            frameborder=\"0\"\n",
       "            allowfullscreen\n",
       "            \n",
       "        ></iframe>\n",
       "        "
      ],
      "text/plain": [
       "<IPython.lib.display.IFrame at 0x7fd2ec65e9b0>"
      ]
     },
     "execution_count": 4,
     "metadata": {},
     "output_type": "execute_result"
    }
   ],
   "source": [
    "from IPython.display import IFrame\n",
    "IFrame(\"./docs/guia_ej3.pdf\", width=950, height=1000)"
   ]
  }
 ],
 "metadata": {
  "kernelspec": {
   "display_name": "Python 3 (ipykernel)",
   "language": "python",
   "name": "python3"
  },
  "language_info": {
   "codemirror_mode": {
    "name": "ipython",
    "version": 3
   },
   "file_extension": ".py",
   "mimetype": "text/x-python",
   "name": "python",
   "nbconvert_exporter": "python",
   "pygments_lexer": "ipython3",
   "version": "3.10.6"
  }
 },
 "nbformat": 4,
 "nbformat_minor": 5
}
