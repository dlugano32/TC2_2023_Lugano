{
 "cells": [
  {
   "attachments": {},
   "cell_type": "markdown",
   "metadata": {},
   "source": [
    "<img src=\"../logo_UTN.svg\" align=\"right\" width=\"150\" /> \n",
    "\n",
    "#### Teoría de los Circuitos 2\n",
    "\n",
    "# Evidencias clase 12\n",
    "#### Lugano Damian\n",
    "\n",
    "-----------------\n"
   ]
  },
  {
   "attachments": {},
   "cell_type": "markdown",
   "metadata": {},
   "source": [
    "### Tareas de esta semana:\n",
    "\n",
    "+ Ver clase 9\n",
    "+ Terminar informe TPLab1"
   ]
  },
  {
   "attachments": {},
   "cell_type": "markdown",
   "metadata": {},
   "source": [
    "### Videos Clase 9\n",
    "\n",
    "Esta semana vi la parte 2 de los videos de cuadripolos que trata de transformadores, conexión de cuadripolos y por último el método de disección\n",
    "\n",
    "<img src=\"./pics/clase9.jpg\" align=\"center\" width=\"1000\" /> \n",
    "\n",
    "#### Apuntes tomados durante la clase"
   ]
  },
  {
   "cell_type": "code",
   "execution_count": 3,
   "metadata": {},
   "outputs": [
    {
     "data": {
      "text/html": [
       "\n",
       "        <iframe\n",
       "            width=\"950\"\n",
       "            height=\"1000\"\n",
       "            src=\"./docs/apuntesClase9.pdf\"\n",
       "            frameborder=\"0\"\n",
       "            allowfullscreen\n",
       "            \n",
       "        ></iframe>\n",
       "        "
      ],
      "text/plain": [
       "<IPython.lib.display.IFrame at 0x7f601be5f700>"
      ]
     },
     "execution_count": 3,
     "metadata": {},
     "output_type": "execute_result"
    }
   ],
   "source": [
    "from IPython.display import IFrame\n",
    "IFrame(\"./docs/apuntesClase9.pdf\", width=950, height=1000)"
   ]
  },
  {
   "attachments": {},
   "cell_type": "markdown",
   "metadata": {},
   "source": [
    "#### Bibliografía utilizada durante la clase\n",
    "\n",
    "<figure>\n",
    "<center>\n",
    "<img src=./pics/biblio1.png width = \"1000\">\n",
    "<figcaption> Test de Brune en parametros Z - Libro de Araujo: Cap.6 pag.374  </figcaption>\n",
    "</figure>\n",
    "\n",
    "<figure>\n",
    "<center>\n",
    "<img src=./pics/biblio2.png width = \"1000\">\n",
    "<figcaption> Test de Brune en parametros Y - Libro de Araujo: Cap.6 pag.380  </figcaption>\n",
    "</figure>\n",
    "\n"
   ]
  },
  {
   "attachments": {},
   "cell_type": "markdown",
   "metadata": {},
   "source": []
  }
 ],
 "metadata": {
  "kernelspec": {
   "display_name": "Python 3",
   "language": "python",
   "name": "python3"
  },
  "language_info": {
   "codemirror_mode": {
    "name": "ipython",
    "version": 3
   },
   "file_extension": ".py",
   "mimetype": "text/x-python",
   "name": "python",
   "nbconvert_exporter": "python",
   "pygments_lexer": "ipython3",
   "version": "3.10.6"
  },
  "orig_nbformat": 4
 },
 "nbformat": 4,
 "nbformat_minor": 2
}
