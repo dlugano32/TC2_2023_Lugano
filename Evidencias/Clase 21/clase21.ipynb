{
 "cells": [
  {
   "cell_type": "markdown",
   "metadata": {},
   "source": [
    "<img src=\"../logo_UTN.svg\" align=\"right\" width=\"150\" /> \n",
    "\n",
    "#### Teoría de los Circuitos 2\n",
    "\n",
    "# Evidencias clase 21 | 05/10\n",
    "#### Lugano Damian\n",
    "\n",
    "-----------------"
   ]
  },
  {
   "cell_type": "markdown",
   "metadata": {},
   "source": [
    "Esta semana se hicieron los preparativos para el TPLAB2. Mis compañeros de grupo diseñaron los filtros y yo me encargué de poner el programa a punto y de diseñaron los filtros antialising."
   ]
  },
  {
   "cell_type": "markdown",
   "metadata": {},
   "source": [
    "#### Programa LPC - cambios\n",
    "\n",
    "En la siguiente imagen se puede ver como se colocaron los coeficientes de los filtros digitales diseñados por mi grupo.\n",
    "\n",
    "![Alt text](image.png)\n",
    "![Alt text](image-1.png)"
   ]
  },
  {
   "cell_type": "markdown",
   "metadata": {},
   "source": [
    "### Diseño de filtros antialiasing\n",
    "\n",
    "El criterio de diseño de los filtros antialising es que su frecuencia de corte esté entre la fstop de los filtros digitales y fs/2. En este caso se eligió diseñar un filtro pasivo RC ya que desde nuestro punto de vista, al no tener necesidad de amplificar, el diseño de un filtro activo solo le agregaría complejidad al trabajo practico de filtrado digital.\n",
    "Por lo tanto, a partir de los componentes disponibles se diseño un filtro pasabajos RC con frecuencia de corte de al rededor de 10KHz con R=1.5K y C=10nF"
   ]
  },
  {
   "cell_type": "markdown",
   "metadata": {},
   "source": [
    "### Prueba en Laboratorio abierto 11/10\n",
    "\n",
    "El dia miercoles 11/10 se hizo la prueba del TPLab2 para evitar encontrarse con problemas el dia de la práctica "
   ]
  },
  {
   "cell_type": "markdown",
   "metadata": {},
   "source": [
    "### TS9\n",
    "\n",
    "Si bien la TS9 se hizo practicamente en su totalidad durante la hora de clase, se realizaron tareas como pasarlo en limpio y armar el jupyter con la simulación simbólica en python.\n",
    "\n",
    "Link al jupyter de la TS9 : [link](https://nbviewer.org/github/dlugano32/TC2_2023_Lugano/blob/main/Tareas_Semanales/TS9/TS9.ipynb)"
   ]
  },
  {
   "cell_type": "markdown",
   "metadata": {},
   "source": [
    "#### Tiempo invertido\n",
    "\n",
    "Preparacion del TPLAB : 5.5Hs\n",
    "\n",
    "TS9: 4Hs\n",
    "\n",
    "Total de la semana : 9.5Hs\n"
   ]
  }
 ],
 "metadata": {
  "language_info": {
   "name": "python"
  },
  "orig_nbformat": 4
 },
 "nbformat": 4,
 "nbformat_minor": 2
}
