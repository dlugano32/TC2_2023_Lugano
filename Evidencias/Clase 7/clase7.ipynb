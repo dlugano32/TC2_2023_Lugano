{
 "cells": [
  {
   "cell_type": "markdown",
   "id": "be3ec1f3",
   "metadata": {},
   "source": [
    "<img src=\"../logo_UTN.svg\" align=\"right\" width=\"150\" /> \n",
    "\n",
    "#### Teoría de los Circuitos 2\n",
    "\n",
    "# Evidencias clase 7\n",
    "#### Lugano Damian\n"
   ]
  },
  {
   "cell_type": "markdown",
   "id": "141fa839",
   "metadata": {},
   "source": [
    "### Videos Clase 5\n",
    "\n",
    "Esta semana vi los videos de la clase 5 sobre funciones de transformación, el tema me pareció facil pero me costo bastante entenderlo de los videos, me ayudé con el [apunte de github](https://github.com/agalbachicar/tc2/blob/master/notebooks/Transformacion%20en%20frecuencia.ipynb) subido por el ayudante que da la clase.\n",
    "Además hice un ejercicio de transformación Pasaalto->Pasabajo y otro de Pasabanda->Pasabajo propuestos en el video. Si bien el de pasaaltos lo pude hacer, el de pasabanda no me terminó de cerrar el desarrollo y lo preguntaré el proximo jueves en clase, en el apunte se puede observar bien mi duda al respecto.\n",
    "\n",
    "Por ultimo aclaro que esta semana me olvide de sacar foto de la pantalla cuando estaba mirando la clase, sin embargo subo foto de los apuntes tomados:"
   ]
  },
  {
   "cell_type": "code",
   "execution_count": 2,
   "id": "18e36b9c",
   "metadata": {},
   "outputs": [
    {
     "data": {
      "text/html": [
       "\n",
       "        <iframe\n",
       "            width=\"950\"\n",
       "            height=\"1000\"\n",
       "            src=\"./docs/videosClase5.pdf\"\n",
       "            frameborder=\"0\"\n",
       "            allowfullscreen\n",
       "            \n",
       "        ></iframe>\n",
       "        "
      ],
      "text/plain": [
       "<IPython.lib.display.IFrame at 0x7f6dc80a5510>"
      ]
     },
     "execution_count": 2,
     "metadata": {},
     "output_type": "execute_result"
    }
   ],
   "source": [
    "from IPython.display import IFrame\n",
    "IFrame(\"./docs/videosClase5.pdf\", width=950, height=1000)"
   ]
  },
  {
   "cell_type": "markdown",
   "id": "1c6b4b1a",
   "metadata": {},
   "source": [
    "### Ejercicio 4 de funciones de aproximación\n",
    "\n",
    "Luego hice el ejercicio 4 de la guia de funciones de aproximación para practicar el tema nuevo.\n",
    "\n",
    "Lo pude hacer sin dificultad, me ayudé con las herramientas de python para confirmar la ubicación de los polos del filtro Butter diseñado."
   ]
  },
  {
   "cell_type": "code",
   "execution_count": 4,
   "id": "d3aac74b",
   "metadata": {},
   "outputs": [
    {
     "data": {
      "text/html": [
       "\n",
       "        <iframe\n",
       "            width=\"950\"\n",
       "            height=\"1000\"\n",
       "            src=\"./docs/ej4guia.pdf\"\n",
       "            frameborder=\"0\"\n",
       "            allowfullscreen\n",
       "            \n",
       "        ></iframe>\n",
       "        "
      ],
      "text/plain": [
       "<IPython.lib.display.IFrame at 0x7f6dc80a6f20>"
      ]
     },
     "execution_count": 4,
     "metadata": {},
     "output_type": "execute_result"
    }
   ],
   "source": [
    "from IPython.display import IFrame\n",
    "IFrame(\"./docs/ej4guia.pdf\", width=950, height=1000)"
   ]
  },
  {
   "cell_type": "markdown",
   "id": "dc8cfa2c",
   "metadata": {},
   "source": [
    "\n",
    "<img src=\"./pics/ej4py.png\" align=\"center\" width=\"800\" /> "
   ]
  }
 ],
 "metadata": {
  "kernelspec": {
   "display_name": "Python 3 (ipykernel)",
   "language": "python",
   "name": "python3"
  },
  "language_info": {
   "codemirror_mode": {
    "name": "ipython",
    "version": 3
   },
   "file_extension": ".py",
   "mimetype": "text/x-python",
   "name": "python",
   "nbconvert_exporter": "python",
   "pygments_lexer": "ipython3",
   "version": "3.10.6"
  }
 },
 "nbformat": 4,
 "nbformat_minor": 5
}
