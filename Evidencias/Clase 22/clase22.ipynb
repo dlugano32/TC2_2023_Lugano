{
 "cells": [
  {
   "cell_type": "markdown",
   "metadata": {},
   "source": [
    "<img src=\"../logo_UTN.svg\" align=\"right\" width=\"150\" /> \n",
    "\n",
    "#### Teoría de los Circuitos 2\n",
    "\n",
    "# Evidencias clase 22 | 12/10\n",
    "#### Lugano Damian\n",
    "\n",
    "-----------------"
   ]
  },
  {
   "cell_type": "markdown",
   "metadata": {},
   "source": [
    "Esta semana se desarrolló el informe del TPL2 y se vio la clase de funciones de exicitación disipativas"
   ]
  },
  {
   "cell_type": "markdown",
   "metadata": {},
   "source": [
    "### Clase de funciones de excitación no disipativas\n",
    "\n",
    "Se miraron los videos de la clase de funciones de excitación disipativas. Al ser un tema muy similar a funciones de excitación no disipativas no presentó mayor problemas. Esta actividad llevó 2 horas.\n",
    "\n",
    "![Alt text](./pics/image.png)"
   ]
  },
  {
   "cell_type": "code",
   "execution_count": 1,
   "metadata": {},
   "outputs": [
    {
     "data": {
      "text/html": [
       "\n",
       "        <iframe\n",
       "            width=\"950\"\n",
       "            height=\"1000\"\n",
       "            src=\"./docs/Clase22.pdf\"\n",
       "            frameborder=\"0\"\n",
       "            allowfullscreen\n",
       "            \n",
       "        ></iframe>\n",
       "        "
      ],
      "text/plain": [
       "<IPython.lib.display.IFrame at 0x7fb5466a3340>"
      ]
     },
     "execution_count": 1,
     "metadata": {},
     "output_type": "execute_result"
    }
   ],
   "source": [
    "from IPython.display import IFrame\n",
    "IFrame(\"./docs/Clase22.pdf\", width=950, height=1000)"
   ]
  },
  {
   "cell_type": "markdown",
   "metadata": {},
   "source": [
    "### Informe del TPL2\n",
    "\n",
    "Se desarrolló el informe del TPL2 en su totalidad este fin de semana largo de manera de adelantarlo y poder tener mas tiempo para preparar el parcial.\n",
    "\n",
    "A continuación una foto del proceso\n",
    "\n",
    "![Alt text](./pics/image2.jpg)"
   ]
  },
  {
   "cell_type": "markdown",
   "metadata": {},
   "source": [
    "--> (Link)[https://github.com/dlugano32/TC2_2023_Lugano/tree/main/TPLABs/TP2] al repo del TPL2\n",
    "--> (Link)[] al informe del TPL2\n",
    "\n",
    "Por último, el informe al ser tan extenso llevo unas 12Hs en total, a lo largo del fin de semana.\n",
    "\n",
    "### Total de horas esta semana\n",
    "\n",
    "12Hs(informe) + 2Hs(video) = 14Hs"
   ]
  }
 ],
 "metadata": {
  "kernelspec": {
   "display_name": "Python 3",
   "language": "python",
   "name": "python3"
  },
  "language_info": {
   "codemirror_mode": {
    "name": "ipython",
    "version": 3
   },
   "file_extension": ".py",
   "mimetype": "text/x-python",
   "name": "python",
   "nbconvert_exporter": "python",
   "pygments_lexer": "ipython3",
   "version": "3.10.12"
  },
  "orig_nbformat": 4
 },
 "nbformat": 4,
 "nbformat_minor": 2
}
