{
 "cells": [
  {
   "cell_type": "markdown",
   "metadata": {},
   "source": [
    "<img src=\"../logo_UTN.svg\" align=\"right\" width=\"150\" /> \n",
    "\n",
    "#### Teoría de los Circuitos 2\n",
    "\n",
    "# Evidencias clase 19 y 20 - 21/9 y 28/9\n",
    "#### Lugano Damian\n",
    "\n",
    "-----------------"
   ]
  },
  {
   "cell_type": "markdown",
   "metadata": {},
   "source": [
    "Hubo 2 jueves sin clases por lo que junté lo que hice estas dos semanas.\n",
    "\n",
    "### Videos Síntesis de funciones de excitación\n",
    "\n",
    "Miré los videos de la clase de síntesis de funciones de excitación.\n",
    "\n",
    "![Alt text](image.png)\n",
    "\n",
    "A continuación los apuntes tomados durante la clase"
   ]
  },
  {
   "cell_type": "code",
   "execution_count": 1,
   "metadata": {},
   "outputs": [
    {
     "data": {
      "text/html": [
       "\n",
       "        <iframe\n",
       "            width=\"950\"\n",
       "            height=\"1000\"\n",
       "            src=\"./docs/FuncionesDeExcitacion.pdf\"\n",
       "            frameborder=\"0\"\n",
       "            allowfullscreen\n",
       "            \n",
       "        ></iframe>\n",
       "        "
      ],
      "text/plain": [
       "<IPython.lib.display.IFrame at 0x7fbc95793790>"
      ]
     },
     "execution_count": 1,
     "metadata": {},
     "output_type": "execute_result"
    }
   ],
   "source": [
    "from IPython.display import IFrame\n",
    "IFrame(\"./docs/FuncionesDeExcitacion.pdf\", width=950, height=1000)"
   ]
  },
  {
   "cell_type": "markdown",
   "metadata": {},
   "source": [
    "Respecto a la clase no fue necesario utilizar el libro ya que las explicaciones están claras.\n",
    "\n",
    "En total, ver los videos correspondientes a esta clase me llevó **5HS**"
   ]
  }
 ],
 "metadata": {
  "kernelspec": {
   "display_name": "Python 3",
   "language": "python",
   "name": "python3"
  },
  "language_info": {
   "codemirror_mode": {
    "name": "ipython",
    "version": 3
   },
   "file_extension": ".py",
   "mimetype": "text/x-python",
   "name": "python",
   "nbconvert_exporter": "python",
   "pygments_lexer": "ipython3",
   "version": "3.10.12"
  },
  "orig_nbformat": 4
 },
 "nbformat": 4,
 "nbformat_minor": 2
}
