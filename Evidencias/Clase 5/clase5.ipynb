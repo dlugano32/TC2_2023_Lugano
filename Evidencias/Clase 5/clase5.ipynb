{
 "cells": [
  {
   "cell_type": "markdown",
   "id": "0eb26618",
   "metadata": {},
   "source": [
    "<img src=\"../logo_UTN.svg\" align=\"right\" width=\"150\" /> \n",
    "\n",
    "#### Teoría de los Circuitos 2\n",
    "\n",
    "# Evidencias clase 5\n",
    "#### Lugano Damian\n"
   ]
  },
  {
   "cell_type": "markdown",
   "id": "8b03d32b",
   "metadata": {},
   "source": [
    "### Correcciones TS2\n",
    "\n",
    "Hice las correcciones de la ts2, básicamente rehice las simulaciones de LTspice sin desnormalizar y puse los gráficos más grandes para que se vean mejor. Además agregué una breve conclusión. Queda para la próxima poner los componentes en función de w0 para que el eje x en LTspice sea en rad/s y no en Hz.\n",
    "\n",
    "Para ver los cambios acceder a la ==> [TS2](https://nbviewer.org/github/dlugano32/TC2_2023_Lugano/blob/main/Tareas_Semanales/TS2/TS2.ipynb)"
   ]
  },
  {
   "cell_type": "markdown",
   "id": "45e0d256",
   "metadata": {},
   "source": [
    "### Correccion de la guia de funciones de aproximación\n",
    "\n",
    "#### Ejercicio 1\n",
    "\n",
    "Se corrigió el ej1 de la guia de funciones de aproximación con lo visto en clase\n",
    "\n",
    "<img src=\"./pics/ej1.jpg\" align=\"center\" width=\"800\" /> \n",
    "\n",
    "Además se lo simuló circuitalmente en LTspice para comprobar su correcto funcionamiento\n",
    "\n",
    "<img src=\"./pics/circej1.png\" align=\"center\" width=\"800\" /> \n",
    "<img src=\"./pics/grafej1.png\" align=\"center\" width=\"800\" /> "
   ]
  },
  {
   "cell_type": "markdown",
   "id": "8a9402c0",
   "metadata": {},
   "source": [
    "### Videos Clase 4\n",
    "\n",
    "Se vieron los videos de la clase 4 y se tomaron apuntes:\n",
    "\n",
    "<img src=\"./pics/videoclase4.jpg\" align=\"center\" width=\"800\" /> "
   ]
  },
  {
   "cell_type": "code",
   "execution_count": 3,
   "id": "960de90f",
   "metadata": {},
   "outputs": [
    {
     "data": {
      "text/html": [
       "\n",
       "        <iframe\n",
       "            width=\"950\"\n",
       "            height=\"1000\"\n",
       "            src=\"./docs/clase4.pdf\"\n",
       "            frameborder=\"0\"\n",
       "            allowfullscreen\n",
       "            \n",
       "        ></iframe>\n",
       "        "
      ],
      "text/plain": [
       "<IPython.lib.display.IFrame at 0x7fd74010af20>"
      ]
     },
     "execution_count": 3,
     "metadata": {},
     "output_type": "execute_result"
    }
   ],
   "source": [
    "from IPython.display import IFrame\n",
    "IFrame(\"./docs/clase4.pdf\", width=950, height=1000)"
   ]
  },
  {
   "cell_type": "markdown",
   "id": "2d63ca49",
   "metadata": {},
   "source": [
    "#### Bibliografía usada para la clase 4\n",
    "\n",
    "Se observaron las tablas utilizadas para diseñar filtros Bessel y se anotó en que hojas se encuentran para poder acceder facilmente a ellas en un futuro.\n",
    "\n",
    "<img src=\"./pics/biblio1.png\" align=\"center\" width=\"800\" /> "
   ]
  },
  {
   "cell_type": "markdown",
   "id": "3a726148",
   "metadata": {},
   "source": [
    "### TS3\n",
    "\n",
    "Por último se desarrolló en su totalidad la tarea semanal 3 a la que se puede acceder $\\Longrightarrow$ [TS3](https://nbviewer.org/github/dlugano32/TC2_2023_Lugano/blob/main/Tareas_Semanales/TS3/TS3.ipynb)"
   ]
  }
 ],
 "metadata": {
  "kernelspec": {
   "display_name": "Python 3 (ipykernel)",
   "language": "python",
   "name": "python3"
  },
  "language_info": {
   "codemirror_mode": {
    "name": "ipython",
    "version": 3
   },
   "file_extension": ".py",
   "mimetype": "text/x-python",
   "name": "python",
   "nbconvert_exporter": "python",
   "pygments_lexer": "ipython3",
   "version": "3.10.6"
  }
 },
 "nbformat": 4,
 "nbformat_minor": 5
}
